{
 "cells": [
  {
   "cell_type": "code",
   "execution_count": 72,
   "metadata": {},
   "outputs": [
    {
     "name": "stderr",
     "output_type": "stream",
     "text": [
      "\u001b[32m\u001b[1m  Activating\u001b[22m\u001b[39m project at `~/workspace/kaggle/playground-series-s4e2`\n"
     ]
    }
   ],
   "source": [
    "using Pkg\n",
    "Pkg.activate(\".\")\n",
    "using CSV: read\n",
    "using DataFrames\n",
    "using TidierData\n",
    "using GLM"
   ]
  },
  {
   "cell_type": "code",
   "execution_count": 56,
   "metadata": {},
   "outputs": [
    {
     "name": "stdout",
     "output_type": "stream",
     "text": [
      "Rows: 20758\n",
      "Columns: 18\n",
      ".id            Int64          0, 1, 2, 3, 4, 5, 6, 7, 8, 9, 10, 11, 12, 13, 14, \n",
      ".Gender        CategoricalArrays.CategoricalValue{String7, UInt32}Male, Female, \n",
      ".Age           Float64        24.443011, 18.0, 18.0, 20.952737, 31.641081, 18.12\n",
      ".Height        Float64        1.699998, 1.56, 1.71146, 1.71073, 1.914186, 1.7485\n",
      ".Weight        Float64        81.66995, 57.0, 50.165754, 131.274851, 93.798055, \n",
      ".family_history_with_overweightCategoricalArrays.CategoricalValue{String3, UInt3\n",
      ".FAVC          CategoricalArrays.CategoricalValue{String3, UInt32}yes, yes, yes,\n",
      ".FCVC          Float64        2.0, 2.0, 1.880534, 3.0, 2.679664, 2.919751, 1.991\n",
      ".NCP           Float64        2.983297, 3.0, 1.411685, 3.0, 1.971472, 3.0, 3.0, \n",
      ".CAEC          CategoricalArrays.CategoricalValue{String15, UInt32}Sometimes, Fr\n",
      ".SMOKE         CategoricalArrays.CategoricalValue{String3, UInt32}no, no, no, no\n",
      ".CH2O          Float64        2.763573, 2.0, 1.910378, 1.674061, 1.979848, 2.137\n",
      ".SCC           CategoricalArrays.CategoricalValue{String3, UInt32}no, no, no, no\n"
     ]
    },
    {
     "name": "stdout",
     "output_type": "stream",
     "text": [
      ".FAF           Float64        0.0, 1.0, 0.866045, 1.467863, 1.967973, 1.930033, \n",
      ".TUE           Float64        0.976473, 1.0, 1.673584, 0.780199, 0.931721, 1.0, \n",
      ".CALC          CategoricalArrays.CategoricalValue{String15, UInt32}Sometimes, no\n",
      ".MTRANS        CategoricalArrays.CategoricalValue{String31, UInt32}Public_Transp\n",
      ".NObeyesdad    CategoricalArrays.CategoricalValue{String31, UInt32}Overweight_Le\n"
     ]
    }
   ],
   "source": [
    "test_df = read(\"test.csv\", DataFrame)\n",
    "train_df = read(\"train.csv\", DataFrame)\n",
    "\n",
    "@glimpse(df)"
   ]
  },
  {
   "cell_type": "code",
   "execution_count": 57,
   "metadata": {},
   "outputs": [
    {
     "data": {
      "text/plain": [
       "┌────────────────────────────────┬──────────────────┬───────────────────────────\n",
       "│\u001b[22m names                          \u001b[0m│\u001b[22m scitypes         \u001b[0m│\u001b[22m types                   \u001b[0m ⋯\n",
       "├────────────────────────────────┼──────────────────┼───────────────────────────\n",
       "│ id                             │ Count            │ Int64                    ⋯\n",
       "│ Gender                         │ Multiclass{2}    │ CategoricalValue{String7 ⋯\n",
       "│ Age                            │ Continuous       │ Float64                  ⋯\n",
       "│ Height                         │ Continuous       │ Float64                  ⋯\n",
       "│ Weight                         │ Continuous       │ Float64                  ⋯\n",
       "│ family_history_with_overweight │ Multiclass{2}    │ CategoricalValue{String3 ⋯\n",
       "│ FAVC                           │ Multiclass{2}    │ CategoricalValue{String3 ⋯\n",
       "│ FCVC                           │ Continuous       │ Float64                  ⋯\n",
       "│ NCP                            │ Continuous       │ Float64                  ⋯\n",
       "│ CAEC                           │ Multiclass{4}    │ CategoricalValue{String1 ⋯\n",
       "│ SMOKE                          │ Multiclass{2}    │ CategoricalValue{String3 ⋯\n",
       "│ CH2O                           │ Continuous       │ Float64                  ⋯\n",
       "│ SCC                            │ Multiclass{2}    │ CategoricalValue{String3 ⋯\n",
       "│ FAF                            │ Continuous       │ Float64                  ⋯\n",
       "│ TUE                            │ Continuous       │ Float64                  ⋯\n",
       "│ CALC                           │ Multiclass{3}    │ CategoricalValue{String1 ⋯\n",
       "│               ⋮                │        ⋮         │                 ⋮        ⋱\n",
       "└────────────────────────────────┴──────────────────┴───────────────────────────\n",
       "\u001b[36m                                                     1 column and 2 rows omitted\u001b[0m\n"
      ]
     },
     "metadata": {},
     "output_type": "display_data"
    }
   ],
   "source": [
    "coerce!(train_df,\n",
    "    :id => Count,\n",
    "    :Gender => Multiclass,\n",
    "    :Age => Continuous,\n",
    "    :Height => Continuous,\n",
    "    :Weight => Continuous,\n",
    "    :family_history_with_overweight => Multiclass,\n",
    "    :FAVC => Multiclass,\n",
    "    :FCVC => Continuous,\n",
    "    :NCP => Continuous,\n",
    "    :CAEC => Multiclass,\n",
    "    :SMOKE => Multiclass,\n",
    "    :CH2O => Continuous,\n",
    "    :SCC => Multiclass,\n",
    "    :FAF => Continuous,\n",
    "    :TUE => Continuous,\n",
    "    :CALC => Multiclass,\n",
    "    :MTRANS => Multiclass,\n",
    "    :NObeyesdad => OrderedFactor\n",
    "); MLJ.schema(train_df)"
   ]
  },
  {
   "cell_type": "code",
   "execution_count": 67,
   "metadata": {},
   "outputs": [],
   "source": [
    "train_X = @select(train_df, !id, !NObeyesdad);\n",
    "train_y = @select(train_df, NObeyesdad);\n",
    "test_X = @select(test_df, !id);"
   ]
  },
  {
   "cell_type": "code",
   "execution_count": 86,
   "metadata": {},
   "outputs": [
    {
     "ename": "MethodError",
     "evalue": "MethodError: no method matching transform(::OneHotEncoder, ::DataFrame)\n\nClosest candidates are:\n  transform(::OneHotEncoder, ::Any, !Matched::Any)\n   @ MLJModels ~/.julia/packages/MLJModels/iFOi9/src/builtins/Transformers.jl:934\n  transform(!Matched::UnivariateStandardizer, ::Any, !Matched::Real)\n   @ MLJModels ~/.julia/packages/MLJModels/iFOi9/src/builtins/Transformers.jl:519\n  transform(!Matched::UnivariateStandardizer, ::Any, !Matched::Any)\n   @ MLJModels ~/.julia/packages/MLJModels/iFOi9/src/builtins/Transformers.jl:525\n  ...\n",
     "output_type": "error",
     "traceback": [
      "MethodError: no method matching transform(::OneHotEncoder, ::DataFrame)\n",
      "\n",
      "Closest candidates are:\n",
      "  transform(::OneHotEncoder, ::Any, !Matched::Any)\n",
      "   @ MLJModels ~/.julia/packages/MLJModels/iFOi9/src/builtins/Transformers.jl:934\n",
      "  transform(!Matched::UnivariateStandardizer, ::Any, !Matched::Real)\n",
      "   @ MLJModels ~/.julia/packages/MLJModels/iFOi9/src/builtins/Transformers.jl:519\n",
      "  transform(!Matched::UnivariateStandardizer, ::Any, !Matched::Any)\n",
      "   @ MLJModels ~/.julia/packages/MLJModels/iFOi9/src/builtins/Transformers.jl:525\n",
      "  ...\n",
      "\n",
      "\n",
      "Stacktrace:\n",
      " [1] top-level scope\n",
      "   @ ~/workspace/kaggle/playground-series-s4e2/notebook.ipynb:5"
     ]
    }
   ],
   "source": [
    "multiclass_cols = [:Gender, :family_history_with_overweight, :FAVC, :CAEC, :SMOKE, :SCC, :CALC, :MTRANS]\n",
    "\n",
    "onehot = OneHotEncoder(features=multiclass_cols)\n",
    "\n",
    "MLJ.transform(onehot, train_X)\n"
   ]
  },
  {
   "cell_type": "code",
   "execution_count": null,
   "metadata": {},
   "outputs": [],
   "source": [
    "\n",
    "# Create a dictionary to store the encoders\n",
    "encoders = Dict{Symbol, OneHotEncoder}()\n",
    "\n",
    "# Create and fit the encoders for each multiclass column\n",
    "for col in multiclass_cols\n",
    "    encoder = OneHotEncoder()\n",
    "    fit!(encoder, train_X[:, col])\n",
    "    encoders[col] = encoder\n",
    "end\n",
    "\n",
    "# Apply the encoders to the multiclass columns\n",
    "for col in multiclass_cols\n",
    "    transform!(encoders[col], train_X[:, col])\n",
    "end"
   ]
  },
  {
   "cell_type": "code",
   "execution_count": 78,
   "metadata": {},
   "outputs": [
    {
     "name": "stdout",
     "output_type": "stream",
     "text": [
      "import MLJXGBoostInterface ✔\n"
     ]
    },
    {
     "name": "stderr",
     "output_type": "stream",
     "text": [
      "┌ Info: For silent loading, specify `verbosity=0`. \n",
      "└ @ Main /Users/alex/.julia/packages/MLJModels/iFOi9/src/loading.jl:159\n"
     ]
    },
    {
     "data": {
      "text/plain": [
       "XGBoostClassifier(\n",
       "  test = 1, \n",
       "  num_round = 100, \n",
       "  booster = \"gbtree\", \n",
       "  disable_default_eval_metric = 0, \n",
       "  eta = 0.3, \n",
       "  num_parallel_tree = 1, \n",
       "  gamma = 0.0, \n",
       "  max_depth = 6, \n",
       "  min_child_weight = 1.0, \n",
       "  max_delta_step = 0.0, \n",
       "  subsample = 1.0, \n",
       "  colsample_bytree = 1.0, \n",
       "  colsample_bylevel = 1.0, \n",
       "  colsample_bynode = 1.0, \n",
       "  lambda = 1.0, \n",
       "  alpha = 0.0, \n",
       "  tree_method = \"auto\", \n",
       "  sketch_eps = 0.03, \n",
       "  scale_pos_weight = 1.0, \n",
       "  updater = nothing, \n",
       "  refresh_leaf = 1, \n",
       "  process_type = \"default\", \n",
       "  grow_policy = \"depthwise\", \n",
       "  max_leaves = 0, \n",
       "  max_bin = 256, \n",
       "  predictor = \"cpu_predictor\", \n",
       "  sample_type = \"uniform\", \n",
       "  normalize_type = \"tree\", \n",
       "  rate_drop = 0.0, \n",
       "  one_drop = 0, \n",
       "  skip_drop = 0.0, \n",
       "  feature_selector = \"cyclic\", \n",
       "  top_k = 0, \n",
       "  tweedie_variance_power = 1.5, \n",
       "  objective = \"automatic\", \n",
       "  base_score = 0.5, \n",
       "  watchlist = nothing, \n",
       "  nthread = 8, \n",
       "  importance_type = \"gain\", \n",
       "  seed = nothing, \n",
       "  validate_parameters = false, \n",
       "  eval_metric = String[])"
      ]
     },
     "metadata": {},
     "output_type": "display_data"
    }
   ],
   "source": [
    "XGBoostClassifier = @load XGBoostClassifier\n",
    "model = XGBoostClassifier()"
   ]
  },
  {
   "cell_type": "code",
   "execution_count": 79,
   "metadata": {},
   "outputs": [
    {
     "name": "stderr",
     "output_type": "stream",
     "text": [
      "┌ Warning: The number and/or types of data arguments do not match what the specified model\n",
      "│ supports. Suppress this type check by specifying `scitype_check_level=0`.\n",
      "│ \n",
      "│ Run `@doc XGBoost.XGBoostClassifier` to learn more about your model's requirements.\n",
      "│ \n",
      "│ Commonly, but non exclusively, supervised models are constructed using the syntax\n",
      "│ `machine(model, X, y)` or `machine(model, X, y, w)` while most other models are\n",
      "│ constructed with `machine(model, X)`.  Here `X` are features, `y` a target, and `w`\n",
      "│ sample or class weights.\n",
      "│ \n",
      "│ In general, data in `machine(model, data...)` is expected to satisfy\n",
      "│ \n",
      "│     scitype(data) <: MLJ.fit_data_scitype(model)\n",
      "│ \n",
      "│ In the present case:\n",
      "│ \n",
      "│ scitype(data) = Tuple{Table{Union{AbstractVector{Continuous}, AbstractVector{Count}, AbstractVector{Multiclass{4}}, AbstractVector{Multiclass{2}}, AbstractVector{Multiclass{3}}, AbstractVector{Multiclass{5}}, AbstractVector{OrderedFactor{7}}}}, Table{AbstractVector{OrderedFactor{7}}}}\n",
      "│ \n",
      "│ fit_data_scitype(model) = Tuple{Table{<:AbstractVector{<:Continuous}}, AbstractVector{<:Finite}}\n",
      "└ @ MLJBase /Users/alex/.julia/packages/MLJBase/mIaqI/src/machines.jl:231\n"
     ]
    },
    {
     "data": {
      "text/plain": [
       "untrained Machine; caches model-specific representations of data\n",
       "  model: XGBoostClassifier(test = 1, …)\n",
       "  args: \n",
       "    1:\tSource @806 ⏎ Table{Union{AbstractVector{Continuous}, AbstractVector{Count}, AbstractVector{Multiclass{4}}, AbstractVector{Multiclass{2}}, AbstractVector{Multiclass{3}}, AbstractVector{Multiclass{5}}, AbstractVector{OrderedFactor{7}}}}\n",
       "    2:\tSource @577 ⏎ Table{AbstractVector{OrderedFactor{7}}}\n"
      ]
     },
     "metadata": {},
     "output_type": "display_data"
    }
   ],
   "source": [
    "mach = machine(model, train_X, train_y)"
   ]
  },
  {
   "cell_type": "code",
   "execution_count": null,
   "metadata": {},
   "outputs": [],
   "source": []
  }
 ],
 "metadata": {
  "kernelspec": {
   "display_name": "Julia 1.10.1",
   "language": "julia",
   "name": "julia-1.10"
  },
  "language_info": {
   "file_extension": ".jl",
   "mimetype": "application/julia",
   "name": "julia",
   "version": "1.10.1"
  }
 },
 "nbformat": 4,
 "nbformat_minor": 2
}

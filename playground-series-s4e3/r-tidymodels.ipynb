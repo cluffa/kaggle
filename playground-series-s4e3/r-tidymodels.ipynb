{
 "cells": [
  {
   "cell_type": "code",
   "execution_count": 1,
   "id": "7ff559a4",
   "metadata": {
    "execution": {
     "iopub.execute_input": "2024-03-27T01:16:04.033203Z",
     "iopub.status.busy": "2024-03-27T01:16:04.030959Z",
     "iopub.status.idle": "2024-03-27T01:16:12.308521Z",
     "shell.execute_reply": "2024-03-27T01:16:12.305806Z"
    },
    "papermill": {
     "duration": 8.287043,
     "end_time": "2024-03-27T01:16:12.311615",
     "exception": false,
     "start_time": "2024-03-27T01:16:04.024572",
     "status": "completed"
    },
    "tags": []
   },
   "outputs": [
    {
     "name": "stderr",
     "output_type": "stream",
     "text": [
      "── \u001b[1mAttaching core tidyverse packages\u001b[22m ──────────────────────── tidyverse 2.0.0 ──\n",
      "\u001b[32m✔\u001b[39m \u001b[34mdplyr    \u001b[39m 1.1.4     \u001b[32m✔\u001b[39m \u001b[34mreadr    \u001b[39m 2.1.4\n",
      "\u001b[32m✔\u001b[39m \u001b[34mforcats  \u001b[39m 1.0.0     \u001b[32m✔\u001b[39m \u001b[34mstringr  \u001b[39m 1.5.1\n",
      "\u001b[32m✔\u001b[39m \u001b[34mggplot2  \u001b[39m 3.4.4     \u001b[32m✔\u001b[39m \u001b[34mtibble   \u001b[39m 3.2.1\n",
      "\u001b[32m✔\u001b[39m \u001b[34mlubridate\u001b[39m 1.9.3     \u001b[32m✔\u001b[39m \u001b[34mtidyr    \u001b[39m 1.3.0\n",
      "\u001b[32m✔\u001b[39m \u001b[34mpurrr    \u001b[39m 1.0.2     \n",
      "── \u001b[1mConflicts\u001b[22m ────────────────────────────────────────── tidyverse_conflicts() ──\n",
      "\u001b[31m✖\u001b[39m \u001b[34mdplyr\u001b[39m::\u001b[32mfilter()\u001b[39m masks \u001b[34mstats\u001b[39m::filter()\n",
      "\u001b[31m✖\u001b[39m \u001b[34mdplyr\u001b[39m::\u001b[32mlag()\u001b[39m    masks \u001b[34mstats\u001b[39m::lag()\n",
      "\u001b[36mℹ\u001b[39m Use the conflicted package (\u001b[3m\u001b[34m<http://conflicted.r-lib.org/>\u001b[39m\u001b[23m) to force all conflicts to become errors\n",
      "── \u001b[1mAttaching packages\u001b[22m ────────────────────────────────────── tidymodels 1.1.1 ──\n",
      "\n",
      "\u001b[32m✔\u001b[39m \u001b[34mbroom       \u001b[39m 1.0.5     \u001b[32m✔\u001b[39m \u001b[34mrsample     \u001b[39m 1.2.0\n",
      "\u001b[32m✔\u001b[39m \u001b[34mdials       \u001b[39m 1.2.0     \u001b[32m✔\u001b[39m \u001b[34mtune        \u001b[39m 1.1.2\n",
      "\u001b[32m✔\u001b[39m \u001b[34minfer       \u001b[39m 1.0.5     \u001b[32m✔\u001b[39m \u001b[34mworkflows   \u001b[39m 1.1.3\n",
      "\u001b[32m✔\u001b[39m \u001b[34mmodeldata   \u001b[39m 1.2.0     \u001b[32m✔\u001b[39m \u001b[34mworkflowsets\u001b[39m 1.0.1\n",
      "\u001b[32m✔\u001b[39m \u001b[34mparsnip     \u001b[39m 1.1.1     \u001b[32m✔\u001b[39m \u001b[34myardstick   \u001b[39m 1.2.0\n",
      "\u001b[32m✔\u001b[39m \u001b[34mrecipes     \u001b[39m 1.0.8     \n",
      "\n",
      "── \u001b[1mConflicts\u001b[22m ───────────────────────────────────────── tidymodels_conflicts() ──\n",
      "\u001b[31m✖\u001b[39m \u001b[34mscales\u001b[39m::\u001b[32mdiscard()\u001b[39m masks \u001b[34mpurrr\u001b[39m::discard()\n",
      "\u001b[31m✖\u001b[39m \u001b[34mdplyr\u001b[39m::\u001b[32mfilter()\u001b[39m   masks \u001b[34mstats\u001b[39m::filter()\n",
      "\u001b[31m✖\u001b[39m \u001b[34mrecipes\u001b[39m::\u001b[32mfixed()\u001b[39m  masks \u001b[34mstringr\u001b[39m::fixed()\n",
      "\u001b[31m✖\u001b[39m \u001b[34mdplyr\u001b[39m::\u001b[32mlag()\u001b[39m      masks \u001b[34mstats\u001b[39m::lag()\n",
      "\u001b[31m✖\u001b[39m \u001b[34myardstick\u001b[39m::\u001b[32mspec()\u001b[39m masks \u001b[34mreadr\u001b[39m::spec()\n",
      "\u001b[31m✖\u001b[39m \u001b[34mrecipes\u001b[39m::\u001b[32mstep()\u001b[39m   masks \u001b[34mstats\u001b[39m::step()\n",
      "\u001b[34m•\u001b[39m Learn how to get started at \u001b[32mhttps://www.tidymodels.org/start/\u001b[39m\n",
      "\n",
      "\u001b[1mRows: \u001b[22m\u001b[34m19219\u001b[39m \u001b[1mColumns: \u001b[22m\u001b[34m35\u001b[39m\n",
      "\u001b[36m──\u001b[39m \u001b[1mColumn specification\u001b[22m \u001b[36m────────────────────────────────────────────────────────\u001b[39m\n",
      "\u001b[1mDelimiter:\u001b[22m \",\"\n",
      "\u001b[32mdbl\u001b[39m (35): id, X_Minimum, X_Maximum, Y_Minimum, Y_Maximum, Pixels_Areas, X_Pe...\n",
      "\n",
      "\u001b[36mℹ\u001b[39m Use `spec()` to retrieve the full column specification for this data.\n",
      "\u001b[36mℹ\u001b[39m Specify the column types or set `show_col_types = FALSE` to quiet this message.\n",
      "Warning message:\n",
      "“\u001b[1m\u001b[22mUsing an external vector in selections was deprecated in tidyselect 1.1.0.\n",
      "\u001b[36mℹ\u001b[39m Please use `all_of()` or `any_of()` instead.\n",
      "  # Was:\n",
      "  data %>% select(Y_feats)\n",
      "\n",
      "  # Now:\n",
      "  data %>% select(all_of(Y_feats))\n",
      "\n",
      "See <https://tidyselect.r-lib.org/reference/faq-external-vector.html>.”\n",
      "\u001b[1mRows: \u001b[22m\u001b[34m12814\u001b[39m \u001b[1mColumns: \u001b[22m\u001b[34m28\u001b[39m\n",
      "\u001b[36m──\u001b[39m \u001b[1mColumn specification\u001b[22m \u001b[36m────────────────────────────────────────────────────────\u001b[39m\n",
      "\u001b[1mDelimiter:\u001b[22m \",\"\n",
      "\u001b[32mdbl\u001b[39m (28): id, X_Minimum, X_Maximum, Y_Minimum, Y_Maximum, Pixels_Areas, X_Pe...\n",
      "\n",
      "\u001b[36mℹ\u001b[39m Use `spec()` to retrieve the full column specification for this data.\n",
      "\u001b[36mℹ\u001b[39m Specify the column types or set `show_col_types = FALSE` to quiet this message.\n"
     ]
    },
    {
     "name": "stdout",
     "output_type": "stream",
     "text": [
      "Rows: 18,422\n",
      "Columns: 29\n",
      "$ id                    \u001b[3m\u001b[90m<dbl>\u001b[39m\u001b[23m 0, 1, 2, 3, 4, 5, 6, 7, 9, 10, 11, 13, 14, 15, 1…\n",
      "$ X_Minimum             \u001b[3m\u001b[90m<dbl>\u001b[39m\u001b[23m 584, 808, 39, 781, 1540, 1009, 596, 1673, 893, 1…\n",
      "$ X_Maximum             \u001b[3m\u001b[90m<dbl>\u001b[39m\u001b[23m 590, 816, 192, 789, 1560, 1033, 607, 1687, 907, …\n",
      "$ Y_Minimum             \u001b[3m\u001b[90m<dbl>\u001b[39m\u001b[23m 909972, 728350, 2212076, 3353146, 618457, 899231…\n",
      "$ Y_Maximum             \u001b[3m\u001b[90m<dbl>\u001b[39m\u001b[23m 909977, 728372, 2212144, 3353173, 618502, 899307…\n",
      "$ Pixels_Areas          \u001b[3m\u001b[90m<dbl>\u001b[39m\u001b[23m 16, 433, 11388, 210, 521, 409, 204, 571, 54, 289…\n",
      "$ X_Perimeter           \u001b[3m\u001b[90m<dbl>\u001b[39m\u001b[23m 8, 20, 705, 16, 72, 22, 21, 38, 6, 37, 27, 14, 3…\n",
      "$ Y_Perimeter           \u001b[3m\u001b[90m<dbl>\u001b[39m\u001b[23m 5, 54, 420, 29, 67, 26, 21, 57, 15, 42, 29, 13, …\n",
      "$ Sum_of_Luminosity     \u001b[3m\u001b[90m<dbl>\u001b[39m\u001b[23m 2274, 44478, 1311391, 3202, 48231, 47513, 22478,…\n",
      "$ Minimum_of_Luminosity \u001b[3m\u001b[90m<dbl>\u001b[39m\u001b[23m 113, 70, 29, 114, 82, 86, 89, 77, 87, 84, 105, 1…\n",
      "$ Maximum_of_Luminosity \u001b[3m\u001b[90m<dbl>\u001b[39m\u001b[23m 140, 111, 141, 134, 111, 118, 127, 110, 133, 127…\n",
      "$ Length_of_Conveyer    \u001b[3m\u001b[90m<dbl>\u001b[39m\u001b[23m 1358, 1687, 1400, 1387, 1692, 1650, 1373, 1692, …\n",
      "$ TypeOfSteel_A300      \u001b[3m\u001b[90m<dbl>\u001b[39m\u001b[23m 0, 1, 0, 0, 0, 1, 0, 0, 1, 0, 0, 0, 0, 0, 0, 1, …\n",
      "$ TypeOfSteel_A400      \u001b[3m\u001b[90m<dbl>\u001b[39m\u001b[23m 1, 0, 1, 1, 1, 0, 1, 1, 0, 1, 1, 1, 1, 1, 1, 0, …\n",
      "$ Steel_Plate_Thickness \u001b[3m\u001b[90m<dbl>\u001b[39m\u001b[23m 50, 80, 40, 40, 300, 70, 40, 300, 60, 175, 40, 4…\n",
      "$ Edges_Index           \u001b[3m\u001b[90m<dbl>\u001b[39m\u001b[23m 0.7393, 0.7772, 0.0557, 0.7202, 0.1211, 0.2761, …\n",
      "$ Empty_Index           \u001b[3m\u001b[90m<dbl>\u001b[39m\u001b[23m 0.4000, 0.2878, 0.5282, 0.3333, 0.5347, 0.4136, …\n",
      "$ Square_Index          \u001b[3m\u001b[90m<dbl>\u001b[39m\u001b[23m 0.5000, 0.2581, 0.9895, 0.3333, 0.0842, 0.4091, …\n",
      "$ Outside_X_Index       \u001b[3m\u001b[90m<dbl>\u001b[39m\u001b[23m 0.0059, 0.0044, 0.1077, 0.0044, 0.0192, 0.0053, …\n",
      "$ Edges_X_Index         \u001b[3m\u001b[90m<dbl>\u001b[39m\u001b[23m 1.0000, 0.2500, 0.2363, 0.3750, 0.2105, 0.5454, …\n",
      "$ Edges_Y_Index         \u001b[3m\u001b[90m<dbl>\u001b[39m\u001b[23m 1.0000, 1.0000, 0.3857, 0.9310, 0.9861, 1.0000, …\n",
      "$ Outside_Global_Index  \u001b[3m\u001b[90m<dbl>\u001b[39m\u001b[23m 0, 1, 0, 1, 1, 1, 1, 1, 1, 1, 1, 1, 0, 0, 0, 0, …\n",
      "$ LogOfAreas            \u001b[3m\u001b[90m<dbl>\u001b[39m\u001b[23m 1.2041, 2.6365, 4.0564, 2.3222, 2.7694, 2.6117, …\n",
      "$ Log_X_Index           \u001b[3m\u001b[90m<dbl>\u001b[39m\u001b[23m 0.9031, 0.7782, 2.1790, 0.7782, 1.4150, 0.9542, …\n",
      "$ Log_Y_Index           \u001b[3m\u001b[90m<dbl>\u001b[39m\u001b[23m 0.6990, 1.7324, 2.2095, 1.4314, 1.8808, 1.4150, …\n",
      "$ Orientation_Index     \u001b[3m\u001b[90m<dbl>\u001b[39m\u001b[23m -0.5000, 0.7419, -0.0105, 0.6667, 0.9158, 0.5909…\n",
      "$ Luminosity_Index      \u001b[3m\u001b[90m<dbl>\u001b[39m\u001b[23m -0.0104, -0.2997, -0.0944, -0.0402, -0.2455, -0.…\n",
      "$ SigmoidOfAreas        \u001b[3m\u001b[90m<dbl>\u001b[39m\u001b[23m 0.1417, 0.9491, 1.0000, 0.4025, 0.9998, 0.8749, …\n",
      "$ faults                \u001b[3m\u001b[90m<fct>\u001b[39m\u001b[23m Stains, Other_Faults, K_Scatch, K_Scatch, Other_…\n"
     ]
    }
   ],
   "source": [
    "library(tidyverse)\n",
    "library(tidymodels)\n",
    "library(bonsai)\n",
    "tidymodels_prefer()\n",
    "\n",
    "x_feats <- c('X_Minimum', 'X_Maximum','Y_Minimum', 'Y_Maximum', 'Pixels_Areas', 'X_Perimeter', 'Y_Perimeter', 'Sum_of_Luminosity', 'Minimum_of_Luminosity', 'Maximum_of_Luminosity', 'Length_of_Conveyer', 'TypeOfSteel_A300', 'TypeOfSteel_A400', 'Steel_Plate_Thickness', 'Edges_Index', 'Empty_Index', 'Square_Index', 'Outside_X_Index', 'Edges_X_Index', 'Edges_Y_Index', 'Outside_Global_Index', 'LogOfAreas', 'Log_X_Index', 'Log_Y_Index', 'Orientation_Index', 'Luminosity_Index', 'SigmoidOfAreas')\n",
    "Y_feats <- c('Pastry', 'Z_Scratch', 'K_Scatch', 'Stains', 'Dirtiness', 'Bumps', 'Other_Faults')\n",
    "\n",
    "train_df <- read_csv(\"/kaggle/input/playground-series-s4e3/train.csv\") %>%\n",
    "    pivot_longer(cols = Y_feats, names_to = \"faults\") %>%\n",
    "    filter(value == 1) %>%\n",
    "    select(-value) %>%\n",
    "    mutate(faults = as.factor(faults))\n",
    "\n",
    "test_df <- read_csv(\"/kaggle/input/playground-series-s4e3/test.csv\")\n",
    "glimpse(train_df)"
   ]
  },
  {
   "cell_type": "code",
   "execution_count": 2,
   "id": "f3da990e",
   "metadata": {
    "execution": {
     "iopub.execute_input": "2024-03-27T01:16:12.355000Z",
     "iopub.status.busy": "2024-03-27T01:16:12.322869Z",
     "iopub.status.idle": "2024-03-27T01:16:12.372977Z",
     "shell.execute_reply": "2024-03-27T01:16:12.370961Z"
    },
    "papermill": {
     "duration": 0.060223,
     "end_time": "2024-03-27T01:16:12.376450",
     "exception": false,
     "start_time": "2024-03-27T01:16:12.316227",
     "status": "completed"
    },
    "tags": []
   },
   "outputs": [],
   "source": [
    "tune_spec <-\n",
    "    boost_tree(\n",
    "#         trees = tune(),\n",
    "#         tree_depth = tune(), \n",
    "#         learn_rate = tune(),\n",
    "#         min_n = tune(),\n",
    "        loss_reduction = tune()\n",
    "    ) %>%\n",
    "    set_engine(\"lightgbm\") %>%\n",
    "    set_mode(\"classification\")"
   ]
  },
  {
   "cell_type": "code",
   "execution_count": 3,
   "id": "a0e0b0d6",
   "metadata": {
    "execution": {
     "iopub.execute_input": "2024-03-27T01:16:12.390927Z",
     "iopub.status.busy": "2024-03-27T01:16:12.388220Z",
     "iopub.status.idle": "2024-03-27T01:16:12.420664Z",
     "shell.execute_reply": "2024-03-27T01:16:12.418350Z"
    },
    "papermill": {
     "duration": 0.043301,
     "end_time": "2024-03-27T01:16:12.424352",
     "exception": false,
     "start_time": "2024-03-27T01:16:12.381051",
     "status": "completed"
    },
    "tags": []
   },
   "outputs": [],
   "source": [
    "grid <- grid_regular(\n",
    "#     trees(),\n",
    "#     tree_depth(),\n",
    "#     learn_rate(),\n",
    "#     min_n(),\n",
    "    loss_reduction(),\n",
    "    levels = 3\n",
    ")"
   ]
  },
  {
   "cell_type": "code",
   "execution_count": 4,
   "id": "d2a85e4a",
   "metadata": {
    "execution": {
     "iopub.execute_input": "2024-03-27T01:16:12.438842Z",
     "iopub.status.busy": "2024-03-27T01:16:12.437062Z",
     "iopub.status.idle": "2024-03-27T01:16:12.477143Z",
     "shell.execute_reply": "2024-03-27T01:16:12.475034Z"
    },
    "papermill": {
     "duration": 0.051122,
     "end_time": "2024-03-27T01:16:12.480888",
     "exception": false,
     "start_time": "2024-03-27T01:16:12.429766",
     "status": "completed"
    },
    "tags": []
   },
   "outputs": [],
   "source": [
    "set.seed(1234)\n",
    "folds <- vfold_cv(train_df, v = 3)"
   ]
  },
  {
   "cell_type": "code",
   "execution_count": 5,
   "id": "616b172e",
   "metadata": {
    "execution": {
     "iopub.execute_input": "2024-03-27T01:16:12.494634Z",
     "iopub.status.busy": "2024-03-27T01:16:12.492875Z",
     "iopub.status.idle": "2024-03-27T01:16:12.513184Z",
     "shell.execute_reply": "2024-03-27T01:16:12.511226Z"
    },
    "papermill": {
     "duration": 0.030934,
     "end_time": "2024-03-27T01:16:12.516527",
     "exception": false,
     "start_time": "2024-03-27T01:16:12.485593",
     "status": "completed"
    },
    "tags": []
   },
   "outputs": [],
   "source": [
    "wf <- workflow() %>%\n",
    "    add_model(tune_spec) %>%\n",
    "    add_formula(faults ~ . -id)"
   ]
  },
  {
   "cell_type": "code",
   "execution_count": 6,
   "id": "26ee6eb5",
   "metadata": {
    "execution": {
     "iopub.execute_input": "2024-03-27T01:16:12.529111Z",
     "iopub.status.busy": "2024-03-27T01:16:12.527396Z",
     "iopub.status.idle": "2024-03-27T01:16:33.535064Z",
     "shell.execute_reply": "2024-03-27T01:16:33.533046Z"
    },
    "papermill": {
     "duration": 21.017948,
     "end_time": "2024-03-27T01:16:33.538753",
     "exception": false,
     "start_time": "2024-03-27T01:16:12.520805",
     "status": "completed"
    },
    "tags": []
   },
   "outputs": [],
   "source": [
    "res <- wf %>% \n",
    "    tune_grid(\n",
    "        resamples = folds,\n",
    "        grid = grid\n",
    "    )"
   ]
  },
  {
   "cell_type": "code",
   "execution_count": 7,
   "id": "4986b3fa",
   "metadata": {
    "execution": {
     "iopub.execute_input": "2024-03-27T01:16:33.551512Z",
     "iopub.status.busy": "2024-03-27T01:16:33.549932Z",
     "iopub.status.idle": "2024-03-27T01:16:33.621326Z",
     "shell.execute_reply": "2024-03-27T01:16:33.619571Z"
    },
    "papermill": {
     "duration": 0.080266,
     "end_time": "2024-03-27T01:16:33.623875",
     "exception": false,
     "start_time": "2024-03-27T01:16:33.543609",
     "status": "completed"
    },
    "tags": []
   },
   "outputs": [
    {
     "data": {
      "text/html": [
       "<table class=\"dataframe\">\n",
       "<caption>A tibble: 1 × 2</caption>\n",
       "<thead>\n",
       "\t<tr><th scope=col>loss_reduction</th><th scope=col>.config</th></tr>\n",
       "\t<tr><th scope=col>&lt;dbl&gt;</th><th scope=col>&lt;chr&gt;</th></tr>\n",
       "</thead>\n",
       "<tbody>\n",
       "\t<tr><td>5.623413e-05</td><td>Preprocessor1_Model2</td></tr>\n",
       "</tbody>\n",
       "</table>\n"
      ],
      "text/latex": [
       "A tibble: 1 × 2\n",
       "\\begin{tabular}{ll}\n",
       " loss\\_reduction & .config\\\\\n",
       " <dbl> & <chr>\\\\\n",
       "\\hline\n",
       "\t 5.623413e-05 & Preprocessor1\\_Model2\\\\\n",
       "\\end{tabular}\n"
      ],
      "text/markdown": [
       "\n",
       "A tibble: 1 × 2\n",
       "\n",
       "| loss_reduction &lt;dbl&gt; | .config &lt;chr&gt; |\n",
       "|---|---|\n",
       "| 5.623413e-05 | Preprocessor1_Model2 |\n",
       "\n"
      ],
      "text/plain": [
       "  loss_reduction .config             \n",
       "1 5.623413e-05   Preprocessor1_Model2"
      ]
     },
     "metadata": {},
     "output_type": "display_data"
    }
   ],
   "source": [
    "best <- res %>%\n",
    "  select_best(\"roc_auc\")\n",
    "\n",
    "best"
   ]
  },
  {
   "cell_type": "code",
   "execution_count": 8,
   "id": "90a38cb5",
   "metadata": {
    "execution": {
     "iopub.execute_input": "2024-03-27T01:16:33.636621Z",
     "iopub.status.busy": "2024-03-27T01:16:33.635062Z",
     "iopub.status.idle": "2024-03-27T01:16:33.668743Z",
     "shell.execute_reply": "2024-03-27T01:16:33.666805Z"
    },
    "papermill": {
     "duration": 0.042789,
     "end_time": "2024-03-27T01:16:33.671310",
     "exception": false,
     "start_time": "2024-03-27T01:16:33.628521",
     "status": "completed"
    },
    "tags": []
   },
   "outputs": [],
   "source": [
    "final_wf <- wf %>% \n",
    "  finalize_workflow(best)"
   ]
  },
  {
   "cell_type": "code",
   "execution_count": 9,
   "id": "91d5ddd3",
   "metadata": {
    "execution": {
     "iopub.execute_input": "2024-03-27T01:16:33.684165Z",
     "iopub.status.busy": "2024-03-27T01:16:33.682667Z",
     "iopub.status.idle": "2024-03-27T01:16:36.182002Z",
     "shell.execute_reply": "2024-03-27T01:16:36.179535Z"
    },
    "papermill": {
     "duration": 2.509385,
     "end_time": "2024-03-27T01:16:36.185361",
     "exception": false,
     "start_time": "2024-03-27T01:16:33.675976",
     "status": "completed"
    },
    "tags": []
   },
   "outputs": [],
   "source": [
    "final_fit <- \n",
    "  final_wf %>%\n",
    "  fit(train_df)"
   ]
  },
  {
   "cell_type": "code",
   "execution_count": 10,
   "id": "20f43f6c",
   "metadata": {
    "execution": {
     "iopub.execute_input": "2024-03-27T01:16:36.198021Z",
     "iopub.status.busy": "2024-03-27T01:16:36.196400Z",
     "iopub.status.idle": "2024-03-27T01:16:36.551782Z",
     "shell.execute_reply": "2024-03-27T01:16:36.549319Z"
    },
    "papermill": {
     "duration": 0.365048,
     "end_time": "2024-03-27T01:16:36.554917",
     "exception": false,
     "start_time": "2024-03-27T01:16:36.189869",
     "status": "completed"
    },
    "tags": []
   },
   "outputs": [],
   "source": [
    "p <- predict(final_fit, new_data = test_df, type = \"prob\")"
   ]
  },
  {
   "cell_type": "code",
   "execution_count": 11,
   "id": "e91b6017",
   "metadata": {
    "execution": {
     "iopub.execute_input": "2024-03-27T01:16:36.567292Z",
     "iopub.status.busy": "2024-03-27T01:16:36.565642Z",
     "iopub.status.idle": "2024-03-27T01:16:36.605004Z",
     "shell.execute_reply": "2024-03-27T01:16:36.602889Z"
    },
    "papermill": {
     "duration": 0.048408,
     "end_time": "2024-03-27T01:16:36.607758",
     "exception": false,
     "start_time": "2024-03-27T01:16:36.559350",
     "status": "completed"
    },
    "tags": []
   },
   "outputs": [
    {
     "name": "stdout",
     "output_type": "stream",
     "text": [
      "Rows: 12,814\n",
      "Columns: 7\n",
      "$ Bumps        \u001b[3m\u001b[90m<dbl>\u001b[39m\u001b[23m 0.1594106955, 0.1402409796, 0.3039801090, 0.4148920324, 0…\n",
      "$ Dirtiness    \u001b[3m\u001b[90m<dbl>\u001b[39m\u001b[23m 0.0066266866, 0.3815004536, 0.0053476400, 0.0066008073, 0…\n",
      "$ K_Scatch     \u001b[3m\u001b[90m<dbl>\u001b[39m\u001b[23m 0.006601115, 0.009488231, 0.051726131, 0.001156029, 0.001…\n",
      "$ Other_Faults \u001b[3m\u001b[90m<dbl>\u001b[39m\u001b[23m 0.27186119, 0.21413990, 0.58094457, 0.44675154, 0.3558481…\n",
      "$ Pastry       \u001b[3m\u001b[90m<dbl>\u001b[39m\u001b[23m 0.5543466967, 0.2469835466, 0.0019098005, 0.1290015051, 0…\n",
      "$ Stains       \u001b[3m\u001b[90m<dbl>\u001b[39m\u001b[23m 1.655978e-04, 1.667007e-04, 5.134799e-04, 3.174355e-04, 7…\n",
      "$ Z_Scratch    \u001b[3m\u001b[90m<dbl>\u001b[39m\u001b[23m 0.0009880220, 0.0074801861, 0.0555782659, 0.0012806471, 0…\n"
     ]
    }
   ],
   "source": [
    "names(p) <- str_replace(names(p), \".pred_\", \"\")\n",
    "p %>% glimpse"
   ]
  },
  {
   "cell_type": "code",
   "execution_count": 12,
   "id": "0f616714",
   "metadata": {
    "execution": {
     "iopub.execute_input": "2024-03-27T01:16:36.620230Z",
     "iopub.status.busy": "2024-03-27T01:16:36.618685Z",
     "iopub.status.idle": "2024-03-27T01:16:36.662527Z",
     "shell.execute_reply": "2024-03-27T01:16:36.660582Z"
    },
    "papermill": {
     "duration": 0.053313,
     "end_time": "2024-03-27T01:16:36.665598",
     "exception": false,
     "start_time": "2024-03-27T01:16:36.612285",
     "status": "completed"
    },
    "tags": []
   },
   "outputs": [],
   "source": [
    "p %>%\n",
    "    mutate(id = test_df$id) %>%\n",
    "    write_csv(\"submission.csv\")"
   ]
  }
 ],
 "metadata": {
  "kaggle": {
   "accelerator": "none",
   "dataSources": [
    {
     "databundleVersionId": 7659021,
     "sourceId": 68699,
     "sourceType": "competition"
    }
   ],
   "dockerImageVersionId": 30618,
   "isGpuEnabled": false,
   "isInternetEnabled": true,
   "language": "r",
   "sourceType": "notebook"
  },
  "kernelspec": {
   "display_name": "R",
   "language": "R",
   "name": "ir"
  },
  "language_info": {
   "codemirror_mode": "r",
   "file_extension": ".r",
   "mimetype": "text/x-r-source",
   "name": "R",
   "pygments_lexer": "r",
   "version": "4.0.5"
  },
  "papermill": {
   "default_parameters": {},
   "duration": 36.243683,
   "end_time": "2024-03-27T01:16:36.792486",
   "environment_variables": {},
   "exception": null,
   "input_path": "__notebook__.ipynb",
   "output_path": "__notebook__.ipynb",
   "parameters": {},
   "start_time": "2024-03-27T01:16:00.548803",
   "version": "2.5.0"
  }
 },
 "nbformat": 4,
 "nbformat_minor": 5
}
